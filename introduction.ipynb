{
 "cells": [
  {
   "attachments": {},
   "cell_type": "markdown",
   "metadata": {},
   "source": [
    "# How to read Excel file using Pandas DataFrame"
   ]
  },
  {
   "cell_type": "code",
   "execution_count": 17,
   "metadata": {},
   "outputs": [
    {
     "data": {
      "text/html": [
       "<div>\n",
       "<style scoped>\n",
       "    .dataframe tbody tr th:only-of-type {\n",
       "        vertical-align: middle;\n",
       "    }\n",
       "\n",
       "    .dataframe tbody tr th {\n",
       "        vertical-align: top;\n",
       "    }\n",
       "\n",
       "    .dataframe thead th {\n",
       "        text-align: right;\n",
       "    }\n",
       "</style>\n",
       "<table border=\"1\" class=\"dataframe\">\n",
       "  <thead>\n",
       "    <tr style=\"text-align: right;\">\n",
       "      <th></th>\n",
       "      <th>name</th>\n",
       "      <th>ID</th>\n",
       "      <th>Math</th>\n",
       "      <th>English</th>\n",
       "      <th>Computer</th>\n",
       "    </tr>\n",
       "  </thead>\n",
       "  <tbody>\n",
       "    <tr>\n",
       "      <th>0</th>\n",
       "      <td>John Doe</td>\n",
       "      <td>2022-0002</td>\n",
       "      <td>100</td>\n",
       "      <td>90</td>\n",
       "      <td>90</td>\n",
       "    </tr>\n",
       "    <tr>\n",
       "      <th>1</th>\n",
       "      <td>Jane Doe</td>\n",
       "      <td>2023-0001</td>\n",
       "      <td>70</td>\n",
       "      <td>100</td>\n",
       "      <td>90</td>\n",
       "    </tr>\n",
       "    <tr>\n",
       "      <th>2</th>\n",
       "      <td>Mary Smith</td>\n",
       "      <td>2023-0002</td>\n",
       "      <td>100</td>\n",
       "      <td>100</td>\n",
       "      <td>100</td>\n",
       "    </tr>\n",
       "    <tr>\n",
       "      <th>3</th>\n",
       "      <td>Bill Watson</td>\n",
       "      <td>2023-0003</td>\n",
       "      <td>100</td>\n",
       "      <td>75</td>\n",
       "      <td>85</td>\n",
       "    </tr>\n",
       "  </tbody>\n",
       "</table>\n",
       "</div>"
      ],
      "text/plain": [
       "          name         ID  Math  English  Computer\n",
       "0     John Doe  2022-0002   100       90        90\n",
       "1     Jane Doe  2023-0001    70      100        90\n",
       "2   Mary Smith  2023-0002   100      100       100\n",
       "3  Bill Watson  2023-0003   100       75        85"
      ]
     },
     "execution_count": 17,
     "metadata": {},
     "output_type": "execute_result"
    }
   ],
   "source": [
    "import pandas as pd\n",
    "\n",
    "\n",
    "df = pd.read_excel('students.xlsx')\n",
    "df"
   ]
  },
  {
   "cell_type": "code",
   "execution_count": 34,
   "metadata": {},
   "outputs": [
    {
     "data": {
      "text/plain": [
       "Index(['name', 'ID', 'Math', 'English', 'Computer'], dtype='object')"
      ]
     },
     "execution_count": 34,
     "metadata": {},
     "output_type": "execute_result"
    }
   ],
   "source": [
    "# Get the column names\n",
    "\n",
    "df.columns"
   ]
  },
  {
   "cell_type": "code",
   "execution_count": 45,
   "metadata": {},
   "outputs": [
    {
     "data": {
      "text/plain": [
       "4"
      ]
     },
     "execution_count": 45,
     "metadata": {},
     "output_type": "execute_result"
    }
   ],
   "source": [
    "# getting the number of rows \n",
    "df.shape[0]"
   ]
  },
  {
   "cell_type": "code",
   "execution_count": 44,
   "metadata": {},
   "outputs": [
    {
     "data": {
      "text/plain": [
       "5"
      ]
     },
     "execution_count": 44,
     "metadata": {},
     "output_type": "execute_result"
    }
   ],
   "source": [
    "# getting the number of columns\n",
    "df.shape[1]"
   ]
  },
  {
   "cell_type": "code",
   "execution_count": 19,
   "metadata": {},
   "outputs": [
    {
     "data": {
      "text/plain": [
       "name         Jane Doe\n",
       "ID          2023-0001\n",
       "Math               70\n",
       "English           100\n",
       "Computer           90\n",
       "Name: 1, dtype: object"
      ]
     },
     "execution_count": 19,
     "metadata": {},
     "output_type": "execute_result"
    }
   ],
   "source": [
    "df.iloc[1]"
   ]
  },
  {
   "cell_type": "code",
   "execution_count": 22,
   "metadata": {},
   "outputs": [
    {
     "data": {
      "text/plain": [
       "0    2022-0002\n",
       "1    2023-0001\n",
       "2    2023-0002\n",
       "3    2023-0003\n",
       "Name: ID, dtype: object"
      ]
     },
     "execution_count": 22,
     "metadata": {},
     "output_type": "execute_result"
    }
   ],
   "source": [
    "df['ID']"
   ]
  },
  {
   "cell_type": "code",
   "execution_count": 27,
   "metadata": {},
   "outputs": [
    {
     "data": {
      "text/plain": [
       "name     John Doe\n",
       "ID      2022-0002\n",
       "Name: 0, dtype: object"
      ]
     },
     "execution_count": 27,
     "metadata": {},
     "output_type": "execute_result"
    }
   ],
   "source": [
    "df.iloc[0][:2]"
   ]
  },
  {
   "cell_type": "code",
   "execution_count": 30,
   "metadata": {},
   "outputs": [
    {
     "name": "stdout",
     "output_type": "stream",
     "text": [
      "John Doe 2022-0002 100 90 90 "
     ]
    }
   ],
   "source": [
    "for v in df.iloc[0]:\n",
    "    print (v, end= ' ')"
   ]
  },
  {
   "attachments": {},
   "cell_type": "markdown",
   "metadata": {},
   "source": [
    "## Get the first row and make it as a list"
   ]
  },
  {
   "cell_type": "code",
   "execution_count": 28,
   "metadata": {},
   "outputs": [
    {
     "name": "stdout",
     "output_type": "stream",
     "text": [
      "['John Doe', '2022-0002', 100, 90, 90]\n"
     ]
    }
   ],
   "source": [
    "headerrow = list(df.iloc[0])\n",
    "print (headerrow)"
   ]
  },
  {
   "attachments": {},
   "cell_type": "markdown",
   "metadata": {},
   "source": [
    "## Make Dictionay Example\n",
    "\n",
    "### - df.columns are keys\n",
    "### - The first row values are values\n"
   ]
  },
  {
   "cell_type": "code",
   "execution_count": 36,
   "metadata": {},
   "outputs": [
    {
     "name": "stdout",
     "output_type": "stream",
     "text": [
      "{'name': 'John Doe', 'ID': '2022-0002', 'Math': 100, 'English': 90, 'Computer': 90}\n"
     ]
    }
   ],
   "source": [
    "\n",
    "\n",
    "students = {}\n",
    "\n",
    "keys = df.columns\n",
    "i = 0\n",
    "for v in df.iloc[0]:    \n",
    "    students[df.columns[i]] = v\n",
    "    i += 1\n",
    "print (students)\n"
   ]
  },
  {
   "attachments": {},
   "cell_type": "markdown",
   "metadata": {},
   "source": [
    "## Make Dictionay Example\n",
    "\n",
    "### - df.columns are keys\n",
    "### the all values in entire rows\n"
   ]
  },
  {
   "cell_type": "code",
   "execution_count": 57,
   "metadata": {},
   "outputs": [
    {
     "name": "stdout",
     "output_type": "stream",
     "text": [
      "\tname -> John Doe\t\tID -> 2022-0002\t\tMath -> 100\t\tEnglish -> 90\t\tComputer -> 90\t\n",
      "\tname -> Jane Doe\t\tID -> 2023-0001\t\tMath -> 70\t\tEnglish -> 100\t\tComputer -> 90\t\n",
      "\tname -> Mary Smith\t\tID -> 2023-0002\t\tMath -> 100\t\tEnglish -> 100\t\tComputer -> 100\t\n",
      "\tname -> Bill Watson\t\tID -> 2023-0003\t\tMath -> 100\t\tEnglish -> 75\t\tComputer -> 85\t\n",
      "[{'name': 'John Doe', 'ID': '2022-0002', 'Math': 100, 'English': 90, 'Computer': 90}, {'name': 'Jane Doe', 'ID': '2023-0001', 'Math': 70, 'English': 100, 'Computer': 90}, {'name': 'Mary Smith', 'ID': '2023-0002', 'Math': 100, 'English': 100, 'Computer': 100}, {'name': 'Bill Watson', 'ID': '2023-0003', 'Math': 100, 'English': 75, 'Computer': 85}]\n"
     ]
    }
   ],
   "source": [
    "\n",
    "\n",
    "students = []\n",
    "\n",
    "keys = df.columns\n",
    "for i in range(df.shape[0]):\n",
    "    keyidx = 0\n",
    "    onestudent = {}\n",
    "    for v in df.iloc[i]:    \n",
    "        onestudent[df.columns[keyidx]] = v\n",
    "        keyidx += 1\n",
    "    students.append(onestudent)\n",
    "\n",
    "for d in students:\n",
    "    for k, v in d.items():\n",
    "        print (f'\\t{k} -> {v}', end='\\t')\n",
    "    print ()\n",
    "\n",
    "print (students)\n"
   ]
  },
  {
   "cell_type": "code",
   "execution_count": 61,
   "metadata": {},
   "outputs": [
    {
     "name": "stdout",
     "output_type": "stream",
     "text": [
      "[{'name': 'John Doe', 'ID': '2022-0002', 'Math': 100, 'English': 90, 'Computer': 90}, {'name': 'Jane Doe', 'ID': '2023-0001', 'Math': 70, 'English': 100, 'Computer': 90}, {'name': 'Mary Smith', 'ID': '2023-0002', 'Math': 100, 'English': 100, 'Computer': 100}, {'name': 'Bill Watson', 'ID': '2023-0003', 'Math': 100, 'English': 75, 'Computer': 85}]\n",
      "[{'name': 'Bill Watson', 'ID': '2023-0003', 'Math': 100, 'English': 75, 'Computer': 85}, {'name': 'Jane Doe', 'ID': '2023-0001', 'Math': 70, 'English': 100, 'Computer': 90}, {'name': 'John Doe', 'ID': '2022-0002', 'Math': 100, 'English': 90, 'Computer': 90}, {'name': 'Mary Smith', 'ID': '2023-0002', 'Math': 100, 'English': 100, 'Computer': 100}]\n"
     ]
    }
   ],
   "source": [
    "print (students)\n",
    "\n",
    "students.sort(key= lambda d : d['name'])\n",
    "print (students)"
   ]
  },
  {
   "cell_type": "code",
   "execution_count": null,
   "metadata": {},
   "outputs": [],
   "source": []
  }
 ],
 "metadata": {
  "kernelspec": {
   "display_name": "base",
   "language": "python",
   "name": "python3"
  },
  "language_info": {
   "codemirror_mode": {
    "name": "ipython",
    "version": 3
   },
   "file_extension": ".py",
   "mimetype": "text/x-python",
   "name": "python",
   "nbconvert_exporter": "python",
   "pygments_lexer": "ipython3",
   "version": "3.9.7"
  },
  "orig_nbformat": 4
 },
 "nbformat": 4,
 "nbformat_minor": 2
}
